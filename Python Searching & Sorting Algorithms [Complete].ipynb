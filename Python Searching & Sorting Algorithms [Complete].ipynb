{
 "cells": [
  {
   "cell_type": "markdown",
   "metadata": {},
   "source": [
    "# A Script for Searching & Sorting Algorithms in Python [Complete]"
   ]
  },
  {
   "cell_type": "raw",
   "metadata": {},
   "source": [
    "In this script, we will take a look at all the Searching & Sorting Algorithms available in Python, for one final time, comprehensively. We will start off with certain basics and fundamentals, then move on to the following Algorithms:\n",
    "\n",
    "    i)    Linear Search\n",
    "    ii)   Binary Search\n",
    "    iii)  Bubble Sort\n",
    "    iv)   Selection Sort\n",
    "    v)    Insertion Sort\n",
    "    vi)   Merge Sort\n",
    "    vii)  Quick Sort\n",
    "\n",
    "The Analysis would include the  Code, Time & Space Complexity Analysis, Efficiency and finally the comparison of the various Algorithms to determine the best ones.\n",
    "\n",
    "Time Complexity:\n",
    "The main tool that we use to analyze algorithms is big-O notation: it means \"growth on the order of\".\n",
    "Primarily from the definition of Big(O), we know that if two algorithms, a and b, both solve some problem, and a is in a lower complexity class than b, then for all BIG ENOUGH N, Ta(N) < Tb(N): here Ta(N) means the Time it takes for algorithm a to solve the problem. Note that nothing here is said about small N; which algorithms uses fewer resources on small problems depends on the actual constants we dropped (and even on the terms that we dropped), so complexity classes have little to say for small problem sizes. Again, we use the term \"asymptotic\" analysis of algoritms to indicate that we are mostly concerned with the time taken by the code when N gets very large (going towards infinity)."
   ]
  },
  {
   "cell_type": "raw",
   "metadata": {},
   "source": [
    "In order to create random sample lists for testing, to measure the time required (Experimental analysis for Time Complexity) and visually compare the results, we will import a few modules first."
   ]
  },
  {
   "cell_type": "code",
   "execution_count": 1,
   "metadata": {},
   "outputs": [],
   "source": [
    "import time\n",
    "from numpy import random\n",
    "import pandas as pd\n",
    "import seaborn as sns\n",
    "import matplotlib.pyplot as plt\n",
    "%matplotlib inline"
   ]
  },
  {
   "cell_type": "code",
   "execution_count": 2,
   "metadata": {},
   "outputs": [],
   "source": [
    "# This function will create a reverse array [n,1] for us to test it with our sorting algorithms.\n",
    "def create_reverse_array(n):\n",
    "    a = []\n",
    "    for i in range(n, 0, -1):\n",
    "        a.append(i)\n",
    "    return a"
   ]
  },
  {
   "cell_type": "code",
   "execution_count": 3,
   "metadata": {},
   "outputs": [],
   "source": [
    "# This function will create an array with random integer elements from 0 to 10000\n",
    "def random_int_array(n):\n",
    "    a = random.randint(10000, size=(n))\n",
    "    return list(a)"
   ]
  },
  {
   "cell_type": "markdown",
   "metadata": {},
   "source": [
    "## Searching Algorithms"
   ]
  },
  {
   "cell_type": "markdown",
   "metadata": {},
   "source": [
    "### 1) Linear Search:-"
   ]
  },
  {
   "cell_type": "raw",
   "metadata": {},
   "source": [
    "This is the most intuitive and simplest search algorithm, also called as 'Sequential searching'. Works best with a small list constaining very few elements. A 'for' loop is used to traverse the list and check if the target element exists in the list.\n",
    "\n",
    "The Time Complexity is:\n",
    "a) Best-case = O(1)              # When the target value is at the first index (index=0) of the list.\n",
    "b) Average-case = O(n/2) = O(n)  # When the target value is somewhere in the middle of the list.\n",
    "c) Worst-case = O(n)             # When the target value is at the last index (index=len(arr)-1) of the list."
   ]
  },
  {
   "cell_type": "code",
   "execution_count": 4,
   "metadata": {},
   "outputs": [
    {
     "name": "stdout",
     "output_type": "stream",
     "text": [
      "Enter the size of the array required: 7\n",
      "\n",
      "The random array is generated:  [8010, 7817, 4015, 370, 628, 2711, 341]\n",
      "\n",
      "Enter the target value to be searched: 6504\n",
      "\n",
      "Value not found!\n"
     ]
    }
   ],
   "source": [
    "# The Linear search code for searching an element 'x' in an array 'arr'-\n",
    "def liner_search(arr, x):\n",
    "    n = len(arr)\n",
    "    for i in range(n):\n",
    "        if arr[i] == x:\n",
    "            return i\n",
    "    return -1\n",
    "\n",
    "\n",
    "n = int(input('Enter the size of the array required: '))\n",
    "a = random_int_array(n)\n",
    "print()\n",
    "\n",
    "print('The random array is generated: ', a)\n",
    "print()\n",
    "\n",
    "x = int(input('Enter the target value to be searched: '))\n",
    "print()\n",
    "\n",
    "if liner_search(a, x) == -1:\n",
    "    print('Value not found!')\n",
    "else:    \n",
    "    print('The target value is located at the index:', end=' ')\n",
    "    print(liner_search(a, x))"
   ]
  },
  {
   "cell_type": "markdown",
   "metadata": {},
   "source": [
    "### 2) Binary Search:-"
   ]
  },
  {
   "cell_type": "raw",
   "metadata": {},
   "source": [
    "This is one of the most efficient search algorithms, also called as 'Half-interval search'. Can be used for searching through a list or tuple of any large size. However, the list or the tuple has to be sorted beforehand. The algorithm starts by finding the middle element and then compares it with the target value. If the middle element > target value then the lower half of the list is considered and same process is repeated until the element is located at the middle. The process is done otherwise if the middle element < target value. The algorithm terminates if the middle value doesn't match the element. The termination condition is until si <= ei.\n",
    "\n",
    "The Time Complexity is:\n",
    "    a) Best-case = O(1)       # When the target value is right at the middle index (index=(0+len(arr))//2) of the list.\n",
    "    b) Average-case = O(logn) # When the target value is not at the middle index of the list.\n",
    "    c) Worst-case = O(logn)   # When the target value is not at the middle index of the list."
   ]
  },
  {
   "cell_type": "code",
   "execution_count": 5,
   "metadata": {},
   "outputs": [
    {
     "name": "stdout",
     "output_type": "stream",
     "text": [
      "Enter the size of the array required: 10\n",
      "\n",
      "The random sorted array is generated:  [342, 1033, 3940, 3983, 5774, 6022, 7604, 8004, 8673, 8948]\n",
      "\n",
      "Enter the target value to be searched: 8673\n",
      "\n",
      "The target value is located at the index: 8\n"
     ]
    }
   ],
   "source": [
    "# The Iterative Binary search program is as follows:\n",
    "def binary_search(arr, x):\n",
    "    si = 0\n",
    "    ei = len(arr)\n",
    "    \n",
    "    while si <= ei:\n",
    "        mid = (si+ei)//2\n",
    "        if arr[mid] == x:\n",
    "            return mid\n",
    "        elif arr[mid] < x:\n",
    "            si = mid+1\n",
    "        elif arr[mid] > x:\n",
    "            ei = mid-1\n",
    "        \n",
    "    return -1\n",
    "\n",
    "n = int(input('Enter the size of the array required: '))\n",
    "a = random_int_array(n)\n",
    "a.sort()                # We sort the array since we require only sorted arrays\n",
    "print() \n",
    "\n",
    "print('The random sorted array is generated: ', a)\n",
    "print()\n",
    "\n",
    "x = int(input('Enter the target value to be searched: '))\n",
    "print()\n",
    "\n",
    "if binary_search(a, x) == -1:\n",
    "    print('Value not found!')\n",
    "else:    \n",
    "    print('The target value is located at the index:', end=' ')\n",
    "    print(binary_search(a, x))"
   ]
  },
  {
   "cell_type": "code",
   "execution_count": 10,
   "metadata": {},
   "outputs": [
    {
     "name": "stdout",
     "output_type": "stream",
     "text": [
      "Enter the size of the array required: 10\n",
      "\n",
      "The random sorted array is generated:  [1057, 1244, 2699, 4818, 6102, 7233, 7895, 8574, 9075, 9911]\n",
      "\n",
      "Enter the target value to be searched: 9911\n",
      "\n",
      "The target value is located at the index: 9\n"
     ]
    }
   ],
   "source": [
    "# The Recursive Binary search program is as follows:\n",
    "def recursive_binary_search(arr, x, si, ei):\n",
    "    if si > ei:\n",
    "        return -1\n",
    "    \n",
    "    mid = (si+ei)//2\n",
    "    \n",
    "    if arr[mid] == x:\n",
    "        return mid\n",
    "    elif arr[mid] < x:\n",
    "        return recursive_binary_search(arr, x, mid+1, ei)\n",
    "    elif arr[mid] > x:\n",
    "        return recursive_binary_search(arr, x, si, ei=mid-1)\n",
    "\n",
    "        \n",
    "n = int(input('Enter the size of the array required: '))\n",
    "a = random_int_array(n)\n",
    "a.sort()                 # We sort the array since we require only sorted arrays\n",
    "print()\n",
    "\n",
    "print('The random sorted array is generated: ', a)\n",
    "print()\n",
    "\n",
    "x = int(input('Enter the target value to be searched: '))\n",
    "print()\n",
    "\n",
    "if recursive_binary_search(a, x, 0, len(a)-1) == -1:\n",
    "    print('Value not found!')\n",
    "else:    \n",
    "    print('The target value is located at the index:', end=' ')\n",
    "    print(recursive_binary_search(a, x, 0, len(a)-1))"
   ]
  },
  {
   "cell_type": "markdown",
   "metadata": {},
   "source": [
    "## Sorting Algorithms"
   ]
  },
  {
   "cell_type": "markdown",
   "metadata": {},
   "source": [
    "### 3) Bubble Sort:-"
   ]
  },
  {
   "cell_type": "raw",
   "metadata": {},
   "source": [
    "This is one of the simplest sorting algorithms. The elements are compared with the previous element and move up the order like bubbles. We swap the elements to bring them into the correct ascending order. Now, at every iteration performed, the larget element is sent to the end. At the next iteration, the 2nd larget element is sent to the correct place i.e. the 2nd last place. This way, it would take us (n-1) iterations for (n-1) elements to sort the list. Thus, we use two 'for' loops. The first one is to keep a counter for number of iterations to happen (n-1) times (This first loop is used to make sure that the second loop would be executed (n-1) times). We also add an extra flag called 'swapped' to end the function if no swapping is done at any iteration. This would help increase the speed and efficiency. Notice the range of the second for loops gives as (n-i-1). Here, 'i' indicates the number of elements which have already been sorted. Thus, the further iterations would consider only the first (n-i-1) elements. Remember, there is no need to return the array, thus, our algorithm function does not return anything.\n",
    "\n",
    "The Time Complexity is:\n",
    "    a) Best-case = O(n)      # When an already sorted array is given. In this case, the algorithm would still perform (n-1)    comparisons to ensure that no swapping needs to be done.\n",
    "    b) Average-case = O(n^2) # When a partially sorted array is given.In this case, the algorithm will do (n-1) comparisons for all the (n-1) iterations.\n",
    "    c) Worst-case = O(n^2)   # When a completely reversed array is given.In this case, the algorithm will do (n-1) comparisons for all the (n-1) iterations."
   ]
  },
  {
   "cell_type": "code",
   "execution_count": 11,
   "metadata": {},
   "outputs": [
    {
     "name": "stdout",
     "output_type": "stream",
     "text": [
      "Enter the size of the array required: 15\n",
      "\n",
      "The random array is generated:  [1972, 3220, 7385, 1980, 2457, 1575, 5283, 1969, 7339, 9087, 398, 163, 6798, 930, 9138]\n",
      "\n",
      "The sorted array is:  [163, 398, 930, 1575, 1969, 1972, 1980, 2457, 3220, 5283, 6798, 7339, 7385, 9087, 9138]\n"
     ]
    }
   ],
   "source": [
    "def bubble_Sort(arr):\n",
    "    n = len(arr)\n",
    "    \n",
    "    for i in range(n-1):                                 # This loop acts like a counter for number of iterations to be (n-1)\n",
    "        swapped = False\n",
    "        for j in range(0, n-i-1):                        # Notice the range which results in optimization\n",
    "            if arr[j] > arr[j+1]:\n",
    "                (arr[j], arr[j+1]) = (arr[j+1], arr[j])  # Swapping the smaller element with the larger element\n",
    "                swapped = True                           # If this step is not reached, we can safely terminate the algorithm\n",
    "                \n",
    "        if not swapped:                                  # Algorithm is terminated if no swapping is done at some iteration\n",
    "            break\n",
    "\n",
    "            \n",
    "n = int(input('Enter the size of the array required: '))\n",
    "a = random_int_array(n)\n",
    "print()\n",
    "\n",
    "print('The random array is generated: ', a)\n",
    "print()\n",
    "\n",
    "bubble_Sort(a)\n",
    "\n",
    "print('The sorted array is: ', a)"
   ]
  },
  {
   "cell_type": "markdown",
   "metadata": {},
   "source": [
    "### 4) Selection Sort:-"
   ]
  },
  {
   "cell_type": "raw",
   "metadata": {},
   "source": [
    "This algorithm is also called as 'In-place Comparison Sort' since the algorithm compares the elements in the list and sorts them in-place and does not take up any extra memory location or space. The algorithm maintains a 'Sorted' portion and an 'Unsorted' portion. The 'Sorted' portion is at the starting (towards the left) and the 'Unsorted' portion is at the end. The algorithm runs iteratively with considering the first element of the 'Unsorted' portion as the 'Current' element. It then compares this 'Current' element with the rest of the elements in the 'Unsorted' portion. Swapping is performed and the 'Sorted' portion keeps expanding. The first 'for' loop which gives the 'Current' element will run from index=0 to index=n-1. The second 'for' loop runs from the index postion (i+1) till the len(arr). In any case, the algorithm will do (n-1)*n iterations. Remember again, there is no any need to return the array as this is in-place sorting.\n",
    " \n",
    "The Time Complexity is:\n",
    "    a) Best-case = O(n^2)     # When an already sorted array is given. In this case, the algorithm would still perform   comparisons and run both the the loops.\n",
    "    b) Average-case = O(n^2) # When a partially sorted array is given. In this case, the algorithm would perform comparisons and run both the the loops.\n",
    "    c) Worst-case = O(n^2)   # When an completely reversed sorted array is given. In this case, the algorithm would perform comparisons and run both the the loops."
   ]
  },
  {
   "cell_type": "code",
   "execution_count": 21,
   "metadata": {},
   "outputs": [
    {
     "name": "stdout",
     "output_type": "stream",
     "text": [
      "Enter the size of the array required: 10\n",
      "\n",
      "The random array is generated:  [8217, 1486, 5764, 2645, 9581, 423, 814, 6768, 9431, 7703]\n",
      "\n",
      "The sorted array is:  [423, 814, 1486, 2645, 5764, 6768, 7703, 8217, 9431, 9581]\n"
     ]
    }
   ],
   "source": [
    "def selection_sort(arr):\n",
    "    n = len(arr)\n",
    "    \n",
    "    for i in range(n-1):                              # We will go from the first element till the 2nd last element\n",
    "        min_index = i\n",
    "        \n",
    "        for current_index in range(i+1, n):           # The Unsorted portion starts right from the (i+1)th element till the end\n",
    "            if arr[min_index] > arr[current_index]:\n",
    "                min_index = current_index             # We find the index of the minimum element here\n",
    "        arr[i], arr[min_index] = arr[min_index], arr[i]  \n",
    "            # This swapping done above simply appends the minimum element to the Sorted portion\n",
    "\n",
    "        \n",
    "n = int(input('Enter the size of the array required: '))\n",
    "a = random_int_array(n)\n",
    "print()\n",
    "\n",
    "print('The random array is generated: ', a)\n",
    "print()\n",
    "\n",
    "selection_sort(a)\n",
    "\n",
    "print('The sorted array is: ', a)"
   ]
  },
  {
   "cell_type": "markdown",
   "metadata": {},
   "source": [
    "### 5) Insertion Sort:-"
   ]
  },
  {
   "cell_type": "raw",
   "metadata": {},
   "source": [
    "This algorithm is also called as 'In-place Comparison Sort' since the algorithm compares the elements in the list and sorts them in-place and does not take up any extra memory location or space. The algorithm maintains a 'Sorted' portion and an 'Unsorted' portion. The 'Sorted' portion initially starts with only the first element in it. The 'Unsorted' portion actually starts from the index=1. The algorithm iteratively compares the elements and inserts it in the right position in the 'Sorted' portion. Remember again, there is no any need to return the array as this is in-place sorting.\n",
    " \n",
    "The Time Complexity is:\n",
    "    a) Best-case = O(n)     # When an already sorted array is given. In this case, the algorithm would still perform only 1 traversal across all the elements.s\n",
    "    b) Average-case = O(n^2) # When a partially sorted array is given. In this case, the algorithm would perform comparisons and run both the the loops.\n",
    "    c) Worst-case = O(n^2)   # When an completely reversed sorted array is given. In this case, the algorithm would perform comparisons and run both the the loops."
   ]
  },
  {
   "cell_type": "code",
   "execution_count": 22,
   "metadata": {},
   "outputs": [
    {
     "name": "stdout",
     "output_type": "stream",
     "text": [
      "Enter the size of the array required: 10\n",
      "\n",
      "The random array is generated:  [5287, 4185, 5961, 5145, 8414, 3173, 9909, 6314, 7359, 8777]\n",
      "\n",
      "The sorted array is:  [3173, 4185, 5145, 5287, 5961, 6314, 7359, 8414, 8777, 9909]\n"
     ]
    }
   ],
   "source": [
    "def insertion_sort(arr):\n",
    "    n = len(arr)\n",
    "    \n",
    "    for i in range(1,n):              # We  start from the 1st index position\n",
    "        curr_element = arr[i]\n",
    "        \n",
    "        while (i > 0) and (curr_element < arr[i-1]):   # while arr[i] < arr[i-1]\n",
    "            arr[i] = arr[i-1]         # If arr[i-1] is smaller than arr[i], we set arr[i-1] equal to arr[i]\n",
    "            i -= 1 \n",
    "        \n",
    "        arr[i] = curr_element         # We set arr[i] equal to the initial value of arr[i-1]\n",
    "        \n",
    "        \n",
    "n = int(input('Enter the size of the array required: '))\n",
    "a = random_int_array(n)\n",
    "print()\n",
    "\n",
    "print('The random array is generated: ', a)\n",
    "print()\n",
    "\n",
    "insertion_sort(a)\n",
    "\n",
    "print('The sorted array is: ', a)"
   ]
  },
  {
   "cell_type": "markdown",
   "metadata": {},
   "source": [
    "### 6) Merge Sort:- "
   ]
  },
  {
   "cell_type": "raw",
   "metadata": {},
   "source": [
    "This is a Recursive algorithm which does not sort the array in-place and thus takes up an extra space to store the arrays. The input array is divided into halves. The function recursively performs iterations on two halves and finally they are merged using a separate merge() function to form the final sorted array. This algorithm can be used efficiently for small to large lists. Since this not an in-place algorithm, we need to return the sorted array.\n",
    " \n",
    "The Time Complexity is:\n",
    "    a) Best-case = O(nlogn)    # When an already sorted array is given. In this case, the algorithm would still perform only 1 traversal across all the elements.\n",
    "    b) Average-case = O(nlogn) # When a partially sorted array is given. In this case, the algorithm would perform comparisons and run both the the loops.\n",
    "    c) Worst-case = O(nlogn)   # When an completely reversed sorted array is given. In this case, the algorithm would perform comparisons and run both the the loops."
   ]
  },
  {
   "cell_type": "code",
   "execution_count": 15,
   "metadata": {},
   "outputs": [
    {
     "name": "stdout",
     "output_type": "stream",
     "text": [
      "Enter the size of the array required: 12\n",
      "\n",
      "The random array is generated:  [82633, 55755, 87411, 84356, 98454, 38937, 90389, 33750, 63840, 7688, 59457, 45494]\n",
      "\n",
      "The sorted array is:  [7688, 33750, 38937, 45494, 55755, 59457, 63840, 82633, 84356, 87411, 90389, 98454]\n"
     ]
    }
   ],
   "source": [
    "def merge(arr1, arr2, arr):\n",
    "    n1 = len(arr1)\n",
    "    n2 = len(arr2)\n",
    "    i = 0\n",
    "    j = 0\n",
    "    k = 0\n",
    "    while i < n1 and j < n2:\n",
    "        if arr1[i] > arr2[j]:\n",
    "            arr[k] = arr2[j]\n",
    "            j += 1\n",
    "            k += 1\n",
    "        else:\n",
    "            arr[k] = arr1[i]\n",
    "            i += 1\n",
    "            k += 1\n",
    "    \n",
    "    while j < n2:\n",
    "        arr[k] = arr2[j]\n",
    "        j += 1\n",
    "        k += 1\n",
    "    \n",
    "    while i < n1:\n",
    "        arr[k] = arr1[i]\n",
    "        i += 1\n",
    "        k += 1\n",
    "\n",
    "def merge_sort(arr):\n",
    "    if len(arr) == 0 or len(arr) == 1:\n",
    "        return arr\n",
    "    \n",
    "    mid = len(arr)//2\n",
    "    arr1 = arr[0:mid]\n",
    "    arr2 = arr[mid:]\n",
    "    \n",
    "    merge_sort(arr1)\n",
    "    merge_sort(arr2)\n",
    "    \n",
    "    merge(arr1, arr2, arr)\n",
    "    \n",
    "    \n",
    "n = int(input('Enter the size of the array required: '))\n",
    "a = random_int_array(n)\n",
    "print()\n",
    "\n",
    "print('The random array is generated: ', a)\n",
    "print()\n",
    "\n",
    "merge_sort(a)\n",
    "\n",
    "print('The sorted array is: ', a)"
   ]
  },
  {
   "cell_type": "markdown",
   "metadata": {},
   "source": [
    "### 7) Quick Sort:-"
   ]
  },
  {
   "cell_type": "raw",
   "metadata": {},
   "source": [
    "This is the most efficient Sorting algorithm in terms of both the time and the space complexity. This algorithm sorts the array in-place using comparisons and thus saves any extra space required as in the case of the Merge sort.\n",
    "\n",
    "\n",
    "The Time Complexity is:\n",
    "    a) Best-case = O(nlogn)    # When an already sorted array is given. In this case, the algorithm would still perform only 1 traversal across all the elements.\n",
    "    b) Average-case = O(nlogn) # When a partially sorted array is given. In this case, the algorithm would perform comparisons and run both the the loops.\n",
    "    c) Worst-case = O(n^2)   # When an completely reversed sorted array is given. In this case, the algorithm would perform comparisons and run both the the loops.\n",
    "\n",
    "As you can see, the worst case complexity is O(n^2). However, we can avoid the worst case by choosing the pivot carefully so that we minimize the number of comparisons and swaps.\n",
    "\n",
    "\n",
    "The pivot the key aspect that determines the efficiency of the algorithm for a specific input because:\n",
    "i) If we choose a pivot that happens to be the greatest element in the list, after calling partition(), one portion of the list (right) will be empty and the other one (left) will contain all the other elements. This will result in many recursive calls, which will make the algorithms less efficient.\n",
    "ii) The same will happen if we choose the smallest element in the list. After calling partition() the left portion will be empty and the right portion will contain all the other elements. This will result in many recursive calls, which will make the algorithms less efficient.\n",
    "\n",
    "This is why we need to aim to choose the middle element as the pivot, to divide the list into two portions of similar length and take advantage of the optimizations brought by the recursive process.\n",
    "\n",
    "⭐ Note: when I refer to the middle element, I refer to the value of the element, not its original location. We should aim to choose an element that should be in the middle of the list when the list is already sorted.\n",
    "\n",
    "The two efficient methods for choosing the pivot: i) Randomly, ii) Median of three"
   ]
  },
  {
   "cell_type": "code",
   "execution_count": 26,
   "metadata": {},
   "outputs": [
    {
     "name": "stdout",
     "output_type": "stream",
     "text": [
      "Enter the size of the array required: 10\n",
      "\n",
      "The random array is generated:  [8567, 5050, 943, 974, 1071, 59, 4804, 2162, 8091, 3604]\n",
      "\n",
      "The sorted array is:  [59, 943, 974, 1071, 2162, 3604, 4804, 5050, 8091, 8567]\n"
     ]
    }
   ],
   "source": [
    "def partition(a, si, ei):\n",
    "    pivot = a[si]\n",
    "    if si > ei:\n",
    "        return -1\n",
    "    c = 0\n",
    "    for i in range(si, ei+1):\n",
    "        if a[i] < pivot:\n",
    "            c += 1\n",
    "    a[si+c], a[si] = a[si], a[si+c]\n",
    "    \n",
    "    piv_ind = si+c\n",
    "    \n",
    "    i = si\n",
    "    j = ei\n",
    "    \n",
    "    while i < j:\n",
    "        if (a[i] < pivot):\n",
    "            i += 1\n",
    "        elif a[j] >= pivot:\n",
    "            j -= 1\n",
    "        else:\n",
    "            a[i], a[j] = a[j], a[i]\n",
    "            i += 1\n",
    "            j -= 1\n",
    "    return piv_ind\n",
    "                \n",
    "\n",
    "def quickSort(a, si, ei):\n",
    "    if si >= ei:\n",
    "        return\n",
    "    piv_ind = partition(a, si, ei)\n",
    "    quickSort(a, si, piv_ind-1)\n",
    "    quickSort(a, piv_ind+1, ei)\n",
    "    \n",
    "\n",
    "\n",
    "n = int(input('Enter the size of the array required: '))\n",
    "a = random_int_array(n)\n",
    "print()\n",
    "\n",
    "print('The random array is generated: ', a)\n",
    "print()\n",
    "\n",
    "quickSort(a, 0, len(a)-1)\n",
    "\n",
    "print('The sorted array is: ', a)"
   ]
  },
  {
   "cell_type": "markdown",
   "metadata": {},
   "source": [
    "## Using timeit module to test the Efficiency of the Algortihms:-"
   ]
  },
  {
   "cell_type": "code",
   "execution_count": 27,
   "metadata": {},
   "outputs": [],
   "source": [
    "import timeit"
   ]
  },
  {
   "cell_type": "markdown",
   "metadata": {},
   "source": [
    "### 1) Linear Search"
   ]
  },
  {
   "cell_type": "code",
   "execution_count": 28,
   "metadata": {},
   "outputs": [
    {
     "name": "stdout",
     "output_type": "stream",
     "text": [
      "\n",
      "==> First test of Linear Search: Beginning\n",
      "Total time to find the element: 0.00498410000000149\n",
      "Average time per repetition: 4.98410000000149e-06\n",
      "\n",
      "==> Second test of Linear Search: Middle\n",
      "Total time to find the element: 0.3947840000000724\n",
      "Average time per repetition: 0.0003947840000000724\n",
      "\n",
      "==> Third test of Linear Search: End\n",
      "Total time to find the element: 0.844544899999164\n",
      "Average time per repetition: 0.0008445448999991641\n"
     ]
    }
   ],
   "source": [
    "import timeit\n",
    "\n",
    "NUM_REPETITIONS = 1000\n",
    "\n",
    "# Linear Search Algorithm Implementation\n",
    "\n",
    "def linear_search(lst, item):\n",
    "    for i in range(len(lst)):\n",
    "        if lst[i] == item:\n",
    "            return i\n",
    "    return -1\n",
    "\n",
    "# List\n",
    "a = [i for i in range(10000)]\n",
    "\n",
    "\n",
    "# First Test - Finding an element at the beginning of the list\n",
    "\n",
    "test_code_1 = '''\n",
    "\n",
    "linear_search(a, 50)\n",
    "\n",
    "'''\n",
    "\n",
    "print(\"\\n==> First test of Linear Search: Beginning\")\n",
    "\n",
    "time = timeit.timeit(test_code_1, number=NUM_REPETITIONS, globals=globals())\n",
    "\n",
    "print(\"Total time to find the element:\", time)\n",
    "print(\"Average time per repetition:\", time/NUM_REPETITIONS)\n",
    "\n",
    "\n",
    "# Second Test - Finding an element in the middle of the list\n",
    "\n",
    "test_code_2 = '''\n",
    "\n",
    "linear_search(a, 4500)\n",
    "\n",
    "'''\n",
    "\n",
    "print(\"\\n==> Second test of Linear Search: Middle\")\n",
    "\n",
    "time = timeit.timeit(test_code_2, number=NUM_REPETITIONS, globals=globals())\n",
    "\n",
    "print(\"Total time to find the element:\", time)\n",
    "print(\"Average time per repetition:\", time/NUM_REPETITIONS)\n",
    "\n",
    "\n",
    "# Third Test - Finding an element at the end of the list\n",
    "\n",
    "test_code_3 = '''\n",
    "\n",
    "linear_search(a, 9999)\n",
    "\n",
    "'''\n",
    "\n",
    "print(\"\\n==> Third test of Linear Search: End\")\n",
    "\n",
    "time = timeit.timeit(test_code_3, number=NUM_REPETITIONS, globals=globals())\n",
    "\n",
    "print(\"Total time to find the element:\", time)\n",
    "print(\"Average time per repetition:\", time/NUM_REPETITIONS)"
   ]
  },
  {
   "cell_type": "code",
   "execution_count": null,
   "metadata": {},
   "outputs": [],
   "source": []
  },
  {
   "cell_type": "code",
   "execution_count": null,
   "metadata": {},
   "outputs": [],
   "source": []
  },
  {
   "cell_type": "code",
   "execution_count": null,
   "metadata": {},
   "outputs": [],
   "source": []
  },
  {
   "cell_type": "code",
   "execution_count": null,
   "metadata": {},
   "outputs": [],
   "source": []
  },
  {
   "cell_type": "code",
   "execution_count": null,
   "metadata": {},
   "outputs": [],
   "source": []
  },
  {
   "cell_type": "code",
   "execution_count": null,
   "metadata": {},
   "outputs": [],
   "source": []
  },
  {
   "cell_type": "code",
   "execution_count": null,
   "metadata": {},
   "outputs": [],
   "source": []
  },
  {
   "cell_type": "code",
   "execution_count": null,
   "metadata": {},
   "outputs": [],
   "source": []
  },
  {
   "cell_type": "code",
   "execution_count": null,
   "metadata": {},
   "outputs": [],
   "source": []
  },
  {
   "cell_type": "code",
   "execution_count": null,
   "metadata": {},
   "outputs": [],
   "source": []
  },
  {
   "cell_type": "code",
   "execution_count": null,
   "metadata": {},
   "outputs": [],
   "source": []
  },
  {
   "cell_type": "code",
   "execution_count": null,
   "metadata": {},
   "outputs": [],
   "source": []
  },
  {
   "cell_type": "code",
   "execution_count": null,
   "metadata": {},
   "outputs": [],
   "source": []
  },
  {
   "cell_type": "code",
   "execution_count": null,
   "metadata": {},
   "outputs": [],
   "source": []
  },
  {
   "cell_type": "code",
   "execution_count": null,
   "metadata": {},
   "outputs": [],
   "source": []
  }
 ],
 "metadata": {
  "kernelspec": {
   "display_name": "Python 3",
   "language": "python",
   "name": "python3"
  },
  "language_info": {
   "codemirror_mode": {
    "name": "ipython",
    "version": 3
   },
   "file_extension": ".py",
   "mimetype": "text/x-python",
   "name": "python",
   "nbconvert_exporter": "python",
   "pygments_lexer": "ipython3",
   "version": "3.8.3"
  }
 },
 "nbformat": 4,
 "nbformat_minor": 4
}
